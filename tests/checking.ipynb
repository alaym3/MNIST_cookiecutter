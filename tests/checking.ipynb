{
 "cells": [
  {
   "cell_type": "code",
   "execution_count": 1,
   "metadata": {},
   "outputs": [],
   "source": [
    "from src.data.make_dataset import CorruptMnist\n",
    "import argparse\n",
    "import matplotlib.pyplot as plt\n",
    "import torch\n",
    "\n",
    "\n"
   ]
  },
  {
   "cell_type": "code",
   "execution_count": 6,
   "metadata": {},
   "outputs": [],
   "source": [
    "\n",
    "def load_data():\n",
    "    # dataset = MNIST\n",
    "    train_set = CorruptMnist(train=True, in_folder=\"../data/raw\", out_folder=\"../data/processed\")\n",
    "    test_set = CorruptMnist(train=False, in_folder=\"../data/raw\", out_folder=\"../data/processed\")\n",
    "    return train_set, test_set\n",
    "\n"
   ]
  },
  {
   "cell_type": "code",
   "execution_count": 17,
   "metadata": {},
   "outputs": [
    {
     "name": "stdout",
     "output_type": "stream",
     "text": [
      "Loaded from pre-processed files\n",
      "Loaded from pre-processed files\n"
     ]
    },
    {
     "data": {
      "text/plain": [
       "40000"
      ]
     },
     "execution_count": 17,
     "metadata": {},
     "output_type": "execute_result"
    }
   ],
   "source": [
    "train, test = load_data()\n",
    "len(train)"
   ]
  },
  {
   "cell_type": "code",
   "execution_count": 9,
   "metadata": {},
   "outputs": [],
   "source": [
    "def test_data():\n",
    "    train_set, test_set = load_data()\n",
    "    assert len(train_set) == 40000\n",
    "    assert len(test_set) == 5000\n",
    "    # assert shape"
   ]
  },
  {
   "cell_type": "code",
   "execution_count": 28,
   "metadata": {},
   "outputs": [
    {
     "data": {
      "text/plain": [
       "True"
      ]
     },
     "execution_count": 28,
     "metadata": {},
     "output_type": "execute_result"
    }
   ],
   "source": [
    "train[0][0].shape == torch.Size([1,28,28])"
   ]
  },
  {
   "cell_type": "code",
   "execution_count": 35,
   "metadata": {},
   "outputs": [
    {
     "data": {
      "text/plain": [
       "tensor([[[[0., 0., 0.,  ..., 0., 0., 0.],\n",
       "          [0., 0., 0.,  ..., 0., 0., 0.],\n",
       "          [0., 0., 0.,  ..., 0., 0., 0.],\n",
       "          ...,\n",
       "          [0., 0., 0.,  ..., 0., 0., 0.],\n",
       "          [0., 0., 0.,  ..., 0., 0., 0.],\n",
       "          [0., 0., 0.,  ..., 0., 0., 0.]]],\n",
       "\n",
       "\n",
       "        [[[0., 0., 0.,  ..., 0., 0., 0.],\n",
       "          [0., 0., 0.,  ..., 0., 0., 0.],\n",
       "          [0., 0., 0.,  ..., 0., 0., 0.],\n",
       "          ...,\n",
       "          [0., 0., 0.,  ..., 0., 0., 0.],\n",
       "          [0., 0., 0.,  ..., 0., 0., 0.],\n",
       "          [0., 0., 0.,  ..., 0., 0., 0.]]],\n",
       "\n",
       "\n",
       "        [[[0., 0., 0.,  ..., 0., 0., 0.],\n",
       "          [0., 0., 0.,  ..., 0., 0., 0.],\n",
       "          [0., 0., 0.,  ..., 0., 0., 0.],\n",
       "          ...,\n",
       "          [0., 0., 0.,  ..., 0., 0., 0.],\n",
       "          [0., 0., 0.,  ..., 0., 0., 0.],\n",
       "          [0., 0., 0.,  ..., 0., 0., 0.]]],\n",
       "\n",
       "\n",
       "        ...,\n",
       "\n",
       "\n",
       "        [[[0., 0., 0.,  ..., 0., 0., 0.],\n",
       "          [0., 0., 0.,  ..., 0., 0., 0.],\n",
       "          [0., 0., 0.,  ..., 0., 0., 0.],\n",
       "          ...,\n",
       "          [0., 0., 0.,  ..., 0., 0., 0.],\n",
       "          [0., 0., 0.,  ..., 0., 0., 0.],\n",
       "          [0., 0., 0.,  ..., 0., 0., 0.]]],\n",
       "\n",
       "\n",
       "        [[[0., 0., 0.,  ..., 0., 0., 0.],\n",
       "          [0., 0., 0.,  ..., 0., 0., 0.],\n",
       "          [0., 0., 0.,  ..., 0., 0., 0.],\n",
       "          ...,\n",
       "          [0., 0., 0.,  ..., 0., 0., 0.],\n",
       "          [0., 0., 0.,  ..., 0., 0., 0.],\n",
       "          [0., 0., 0.,  ..., 0., 0., 0.]]],\n",
       "\n",
       "\n",
       "        [[[0., 0., 0.,  ..., 0., 0., 0.],\n",
       "          [0., 0., 0.,  ..., 0., 0., 0.],\n",
       "          [0., 0., 0.,  ..., 0., 0., 0.],\n",
       "          ...,\n",
       "          [0., 0., 0.,  ..., 0., 0., 0.],\n",
       "          [0., 0., 0.,  ..., 0., 0., 0.],\n",
       "          [0., 0., 0.,  ..., 0., 0., 0.]]]], dtype=torch.float64)"
      ]
     },
     "execution_count": 35,
     "metadata": {},
     "output_type": "execute_result"
    }
   ],
   "source": []
  },
  {
   "cell_type": "code",
   "execution_count": 10,
   "metadata": {},
   "outputs": [
    {
     "name": "stdout",
     "output_type": "stream",
     "text": [
      "Loaded from pre-processed files\n",
      "Loaded from pre-processed files\n"
     ]
    }
   ],
   "source": [
    "test_data()"
   ]
  },
  {
   "cell_type": "code",
   "execution_count": 38,
   "metadata": {},
   "outputs": [
    {
     "ename": "ImportError",
     "evalue": "cannot import name 'predict' from 'src.models.predict_model' (/Users/alaina/Desktop/classes/2023Jan/dtu_mlops_cookiecutter/src/models/predict_model.py)",
     "output_type": "error",
     "traceback": [
      "\u001b[0;31m---------------------------------------------------------------------------\u001b[0m",
      "\u001b[0;31mImportError\u001b[0m                               Traceback (most recent call last)",
      "\u001b[1;32m/Users/alaina/Desktop/classes/2023Jan/MNIST_cookiecutter/tests/checking.ipynb Cell 8\u001b[0m in \u001b[0;36m<cell line: 4>\u001b[0;34m()\u001b[0m\n\u001b[1;32m      <a href='vscode-notebook-cell:/Users/alaina/Desktop/classes/2023Jan/MNIST_cookiecutter/tests/checking.ipynb#X10sZmlsZQ%3D%3D?line=1'>2</a>\u001b[0m \u001b[39mfrom\u001b[39;00m \u001b[39msrc\u001b[39;00m\u001b[39m.\u001b[39;00m\u001b[39mdata\u001b[39;00m\u001b[39m.\u001b[39;00m\u001b[39mmake_dataset\u001b[39;00m \u001b[39mimport\u001b[39;00m CorruptMnist\n\u001b[1;32m      <a href='vscode-notebook-cell:/Users/alaina/Desktop/classes/2023Jan/MNIST_cookiecutter/tests/checking.ipynb#X10sZmlsZQ%3D%3D?line=2'>3</a>\u001b[0m \u001b[39mfrom\u001b[39;00m \u001b[39msrc\u001b[39;00m\u001b[39m.\u001b[39;00m\u001b[39mmodels\u001b[39;00m\u001b[39m.\u001b[39;00m\u001b[39mmodel\u001b[39;00m \u001b[39mimport\u001b[39;00m MyAwesomeModel\n\u001b[0;32m----> <a href='vscode-notebook-cell:/Users/alaina/Desktop/classes/2023Jan/MNIST_cookiecutter/tests/checking.ipynb#X10sZmlsZQ%3D%3D?line=3'>4</a>\u001b[0m \u001b[39mfrom\u001b[39;00m \u001b[39msrc\u001b[39;00m\u001b[39m.\u001b[39;00m\u001b[39mmodels\u001b[39;00m\u001b[39m.\u001b[39;00m\u001b[39mpredict_model\u001b[39;00m \u001b[39mimport\u001b[39;00m predict\n\u001b[1;32m      <a href='vscode-notebook-cell:/Users/alaina/Desktop/classes/2023Jan/MNIST_cookiecutter/tests/checking.ipynb#X10sZmlsZQ%3D%3D?line=4'>5</a>\u001b[0m \u001b[39mimport\u001b[39;00m \u001b[39mtorch\u001b[39;00m\n\u001b[1;32m      <a href='vscode-notebook-cell:/Users/alaina/Desktop/classes/2023Jan/MNIST_cookiecutter/tests/checking.ipynb#X10sZmlsZQ%3D%3D?line=6'>7</a>\u001b[0m \u001b[39mdef\u001b[39;00m \u001b[39mload_data\u001b[39m():\n\u001b[1;32m      <a href='vscode-notebook-cell:/Users/alaina/Desktop/classes/2023Jan/MNIST_cookiecutter/tests/checking.ipynb#X10sZmlsZQ%3D%3D?line=7'>8</a>\u001b[0m     \u001b[39m# dataset = MNIST\u001b[39;00m\n",
      "\u001b[0;31mImportError\u001b[0m: cannot import name 'predict' from 'src.models.predict_model' (/Users/alaina/Desktop/classes/2023Jan/dtu_mlops_cookiecutter/src/models/predict_model.py)"
     ]
    }
   ],
   "source": [
    "#  implement at least a test that checks for a given input with shape X that the output of the model have shape Y\n",
    "from src.data.make_dataset import CorruptMnist\n",
    "from src.models.model import MyAwesomeModel\n",
    "from src.models.predict_model import predict\n",
    "\n",
    "import torch\n",
    "\n",
    "def load_data():\n",
    "    # dataset = MNIST\n",
    "    train_set = CorruptMnist(train=True, in_folder=\"../data/raw\", out_folder=\"data/processed\")\n",
    "    test_set = CorruptMnist(train=False, in_folder=\"../data/raw\", out_folder=\"data/processed\")\n",
    "    return train_set, test_set\n",
    "\n",
    "\n",
    "def test_input_shape():\n",
    "    train_set, test_set = load_data()\n",
    "    assert train_set[0][0].shape == torch.Size([1,28,28])\n",
    "    assert test_set[0][0].shape == torch.Size([1,28,28])\n",
    "    \n",
    "\n",
    "def test_output_shape():\n",
    "    train_set, test_set = load_data()\n",
    "    x = predict(train_set[0][0])\n",
    "    assert x.shape == (1)\n",
    "    # assert train_set[0][0].shape == torch.Size([1,28,28])\n",
    "    # assert test_set[0][0].shape == torch.Size([1,28,28])"
   ]
  },
  {
   "cell_type": "code",
   "execution_count": 54,
   "metadata": {},
   "outputs": [
    {
     "name": "stdout",
     "output_type": "stream",
     "text": [
      "torch.Size([1, 1, 28, 28])\n"
     ]
    },
    {
     "name": "stderr",
     "output_type": "stream",
     "text": [
      "/var/folders/z5/w7rdzhpn7xx4g1wy_6cb0stw0000gn/T/ipykernel_86867/1010790895.py:8: UserWarning: To copy construct from a tensor, it is recommended to use sourceTensor.clone().detach() or sourceTensor.clone().detach().requires_grad_(True), rather than torch.tensor(sourceTensor).\n",
      "  imgs = torch.tensor(imgs.reshape(-1, 1, 28, 28), dtype=torch.float)\n"
     ]
    },
    {
     "data": {
      "text/plain": [
       "torch.Size([1, 10])"
      ]
     },
     "execution_count": 54,
     "metadata": {},
     "output_type": "execute_result"
    }
   ],
   "source": [
    "model = MyAwesomeModel()\n",
    "# model.load_state_dict(torch.load(args.model_checkpoint))\n",
    "# model = model.to(device)\n",
    "\n",
    "imgs = train[0][0]\n",
    "# print(imgs.data.shape)\n",
    "# imgs = torch.tensor(imgs['images'].reshape(-1, 1, 28, 28), dtype=torch.float) # need to load only images and not labels\n",
    "imgs = torch.tensor(imgs.reshape(-1, 1, 28, 28), dtype=torch.float)\n",
    "print(imgs.shape)\n",
    "\n",
    "log_probs = model(imgs)\n",
    "prediction = log_probs.argmax(dim=-1)\n",
    "probs = log_probs.softmax(dim=-1)\n",
    "probs.shape"
   ]
  }
 ],
 "metadata": {
  "kernelspec": {
   "display_name": "venv1",
   "language": "python",
   "name": "python3"
  },
  "language_info": {
   "codemirror_mode": {
    "name": "ipython",
    "version": 3
   },
   "file_extension": ".py",
   "mimetype": "text/x-python",
   "name": "python",
   "nbconvert_exporter": "python",
   "pygments_lexer": "ipython3",
   "version": "3.8.13"
  },
  "orig_nbformat": 4,
  "vscode": {
   "interpreter": {
    "hash": "ac5508c8e1df463d7330a5b60a5e0a1103f1ed14a99f651bccdac65323c1446a"
   }
  }
 },
 "nbformat": 4,
 "nbformat_minor": 2
}
